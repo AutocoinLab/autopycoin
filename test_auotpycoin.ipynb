{
 "cells": [
  {
   "cell_type": "code",
   "execution_count": 1,
   "metadata": {},
   "outputs": [
    {
     "name": "stdout",
     "output_type": "stream",
     "text": [
      "1 Physical GPUs, 1 Logical GPUs\n"
     ]
    }
   ],
   "source": [
    "from autopycoin.data import random_ts\n",
    "from autopycoin.models import PoolNBEATS, create_interpretable_nbeats\n",
    "from autopycoin.dataset import WindowGenerator\n",
    "import tensorflow as tf\n",
    "import pandas as pd\n",
    "\n",
    "data = random_ts(n_steps=1000,\n",
    "                 trend_degree=2,\n",
    "                 periods=[10],\n",
    "                 fourier_orders=[10],\n",
    "                 trend_mean=0,\n",
    "                 trend_std=1,\n",
    "                 seasonality_mean=0,\n",
    "                 seasonality_std=1,\n",
    "                 batch_size=1,\n",
    "                 n_variables=1,\n",
    "                 noise=True,\n",
    "                 seed=42)\n",
    "data = pd.DataFrame(data[0].numpy(), columns=['test'])\n",
    "\n",
    "w = WindowGenerator(\n",
    "       input_width=70,\n",
    "       label_width=10,\n",
    "       shift=10,\n",
    "       test_size=50,\n",
    "       valid_size=10,\n",
    "       flat=True,\n",
    "       batch_size=32,\n",
    "       preprocessing=lambda x,y: (x, (x, y))\n",
    "    )\n",
    "\n",
    "w = w.from_array(data=data,\n",
    "       input_columns=['test'],\n",
    "       label_columns=['test'])\n",
    "\n",
    "nbeats_model = lambda label_width: create_interpretable_nbeats(label_width=label_width, \n",
    "seasonality_n_neurons=20, trend_n_neurons=20)\n",
    "\n",
    "model = PoolNBEATS(\n",
    "            label_width=10,\n",
    "            n_models=1,\n",
    "            nbeats_models=nbeats_model,\n",
    "            )\n",
    "model.compile(tf.keras.optimizers.Adam(\n",
    "   learning_rate=0.0015, beta_1=0.9, beta_2=0.999, epsilon=1e-07, amsgrad=True,\n",
    "   name='Adam'), loss=['mse', 'mae'], metrics=['mae'])\n",
    "history = model.fit(w.train, validation_data=w.valid, epochs=1, verbose=1)\n",
    "\n",
    "model.predict(w.test.take(1))"
   ]
  },
  {
   "cell_type": "code",
   "execution_count": null,
   "metadata": {},
   "outputs": [
    {
     "ename": "TypeError",
     "evalue": "in user code:\n\n    File \"C:\\Users\\gaetd\\anaconda3\\lib\\site-packages\\keras\\engine\\training.py\", line 1621, in predict_function  *\n        return step_function(self, iterator)\n    File \"C:\\Users\\gaetd\\anaconda3\\lib\\site-packages\\keras\\engine\\training.py\", line 1611, in step_function  **\n        outputs = model.distribute_strategy.run(run_step, args=(data,))\n    File \"C:\\Users\\gaetd\\anaconda3\\lib\\site-packages\\keras\\engine\\training.py\", line 1604, in run_step  **\n        outputs = model.predict_step(data)\n    File \"c:\\Users\\gaetd\\OneDrive\\Bureau\\github_perso\\autopycoin\\autopycoin\\models\\pool.py\", line 248, in predict_step\n        y = self.postprocessing_y(y)\n    File \"c:\\Users\\gaetd\\OneDrive\\Bureau\\github_perso\\autopycoin\\autopycoin\\models\\nbeats.py\", line 948, in postprocessing_y\n        return self.fn_agg(y)\n\n    TypeError: Failed to convert elements of [UnivariateTensor(values=<tf.Tensor 'pool_nbeats/interpretable_NBEATS/Add_1:0' shape=(None, 10) dtype=float32>, quantiles=False, shape=TensorShape([None, 10]), dtype=tf.float32, multivariates=False), UnivariateTensor(values=<tf.Tensor 'pool_nbeats/interpretable_NBEATS/Add_3:0' shape=(None, 10) dtype=float32>, quantiles=False, shape=TensorShape([None, 10]), dtype=tf.float32, multivariates=False), UnivariateTensor(values=<tf.Tensor 'pool_nbeats/interpretable_NBEATS/Add_5:0' shape=(None, 10) dtype=float32>, quantiles=False, shape=TensorShape([None, 10]), dtype=tf.float32, multivariates=False), UnivariateTensor(values=<tf.Tensor 'pool_nbeats/interpretable_NBEATS/Add_7:0' shape=(None, 10) dtype=float32>, quantiles=False, shape=TensorShape([None, 10]), dtype=tf.float32, multivariates=False), UnivariateTensor(values=<tf.Tensor 'pool_nbeats/interpretable_NBEATS/Add_9:0' shape=(None, 10) dtype=float32>, quantiles=False, shape=TensorShape([None, 10]), dtype=tf.float32, multivariates=False), UnivariateTensor(values=<tf.Tensor 'pool_nbeats/interpretable_NBEATS/Add_11:0' shape=(None, 10) dtype=float32>, quantiles=False, shape=TensorShape([None, 10]), dtype=tf.float32, multivariates=False), UnivariateTensor(values=<tf.Tensor 'pool_nbeats/interpretable_NBEATS/Add_13:0' shape=(None, 10) dtype=float32>, quantiles=False, shape=TensorShape([None, 10]), dtype=tf.float32, multivariates=False), UnivariateTensor(values=<tf.Tensor 'pool_nbeats/interpretable_NBEATS/Add_15:0' shape=(None, 10) dtype=float32>, quantiles=False, shape=TensorShape([None, 10]), dtype=tf.float32, multivariates=False), UnivariateTensor(values=<tf.Tensor 'pool_nbeats/interpretable_NBEATS/Add_17:0' shape=(None, 10) dtype=float32>, quantiles=False, shape=TensorShape([None, 10]), dtype=tf.float32, multivariates=False), UnivariateTensor(values=<tf.Tensor 'pool_nbeats/interpretable_NBEATS/Add_19:0' shape=(None, 10) dtype=float32>, quantiles=False, shape=TensorShape([None, 10]), dtype=tf.float32, multivariates=False)] to Tensor. Consider casting elements to a supported type. See https://www.tensorflow.org/api_docs/python/tf/dtypes for supported TF dtypes.\n",
     "output_type": "error",
     "traceback": [
      "\u001b[1;31m---------------------------------------------------------------------------\u001b[0m",
      "\u001b[1;31mTypeError\u001b[0m                                 Traceback (most recent call last)",
      "\u001b[1;32m~\\AppData\\Local\\Temp/ipykernel_3884/1752874687.py\u001b[0m in \u001b[0;36m<module>\u001b[1;34m\u001b[0m\n\u001b[1;32m----> 1\u001b[1;33m \u001b[0mlen\u001b[0m\u001b[1;33m(\u001b[0m\u001b[0mmodel\u001b[0m\u001b[1;33m.\u001b[0m\u001b[0mpredict\u001b[0m\u001b[1;33m(\u001b[0m\u001b[0mw\u001b[0m\u001b[1;33m.\u001b[0m\u001b[0mtest\u001b[0m\u001b[1;33m.\u001b[0m\u001b[0mtake\u001b[0m\u001b[1;33m(\u001b[0m\u001b[1;36m1\u001b[0m\u001b[1;33m)\u001b[0m\u001b[1;33m)\u001b[0m\u001b[1;33m[\u001b[0m\u001b[1;36m1\u001b[0m\u001b[1;33m]\u001b[0m\u001b[1;33m)\u001b[0m\u001b[1;33m\u001b[0m\u001b[1;33m\u001b[0m\u001b[0m\n\u001b[0m",
      "\u001b[1;32m~\\anaconda3\\lib\\site-packages\\keras\\utils\\traceback_utils.py\u001b[0m in \u001b[0;36merror_handler\u001b[1;34m(*args, **kwargs)\u001b[0m\n\u001b[0;32m     65\u001b[0m     \u001b[1;32mexcept\u001b[0m \u001b[0mException\u001b[0m \u001b[1;32mas\u001b[0m \u001b[0me\u001b[0m\u001b[1;33m:\u001b[0m  \u001b[1;31m# pylint: disable=broad-except\u001b[0m\u001b[1;33m\u001b[0m\u001b[1;33m\u001b[0m\u001b[0m\n\u001b[0;32m     66\u001b[0m       \u001b[0mfiltered_tb\u001b[0m \u001b[1;33m=\u001b[0m \u001b[0m_process_traceback_frames\u001b[0m\u001b[1;33m(\u001b[0m\u001b[0me\u001b[0m\u001b[1;33m.\u001b[0m\u001b[0m__traceback__\u001b[0m\u001b[1;33m)\u001b[0m\u001b[1;33m\u001b[0m\u001b[1;33m\u001b[0m\u001b[0m\n\u001b[1;32m---> 67\u001b[1;33m       \u001b[1;32mraise\u001b[0m \u001b[0me\u001b[0m\u001b[1;33m.\u001b[0m\u001b[0mwith_traceback\u001b[0m\u001b[1;33m(\u001b[0m\u001b[0mfiltered_tb\u001b[0m\u001b[1;33m)\u001b[0m \u001b[1;32mfrom\u001b[0m \u001b[1;32mNone\u001b[0m\u001b[1;33m\u001b[0m\u001b[1;33m\u001b[0m\u001b[0m\n\u001b[0m\u001b[0;32m     68\u001b[0m     \u001b[1;32mfinally\u001b[0m\u001b[1;33m:\u001b[0m\u001b[1;33m\u001b[0m\u001b[1;33m\u001b[0m\u001b[0m\n\u001b[0;32m     69\u001b[0m       \u001b[1;32mdel\u001b[0m \u001b[0mfiltered_tb\u001b[0m\u001b[1;33m\u001b[0m\u001b[1;33m\u001b[0m\u001b[0m\n",
      "\u001b[1;32m~\\anaconda3\\lib\\site-packages\\tensorflow\\python\\framework\\func_graph.py\u001b[0m in \u001b[0;36mautograph_handler\u001b[1;34m(*args, **kwargs)\u001b[0m\n\u001b[0;32m   1127\u001b[0m           \u001b[1;32mexcept\u001b[0m \u001b[0mException\u001b[0m \u001b[1;32mas\u001b[0m \u001b[0me\u001b[0m\u001b[1;33m:\u001b[0m  \u001b[1;31m# pylint:disable=broad-except\u001b[0m\u001b[1;33m\u001b[0m\u001b[1;33m\u001b[0m\u001b[0m\n\u001b[0;32m   1128\u001b[0m             \u001b[1;32mif\u001b[0m \u001b[0mhasattr\u001b[0m\u001b[1;33m(\u001b[0m\u001b[0me\u001b[0m\u001b[1;33m,\u001b[0m \u001b[1;34m\"ag_error_metadata\"\u001b[0m\u001b[1;33m)\u001b[0m\u001b[1;33m:\u001b[0m\u001b[1;33m\u001b[0m\u001b[1;33m\u001b[0m\u001b[0m\n\u001b[1;32m-> 1129\u001b[1;33m               \u001b[1;32mraise\u001b[0m \u001b[0me\u001b[0m\u001b[1;33m.\u001b[0m\u001b[0mag_error_metadata\u001b[0m\u001b[1;33m.\u001b[0m\u001b[0mto_exception\u001b[0m\u001b[1;33m(\u001b[0m\u001b[0me\u001b[0m\u001b[1;33m)\u001b[0m\u001b[1;33m\u001b[0m\u001b[1;33m\u001b[0m\u001b[0m\n\u001b[0m\u001b[0;32m   1130\u001b[0m             \u001b[1;32melse\u001b[0m\u001b[1;33m:\u001b[0m\u001b[1;33m\u001b[0m\u001b[1;33m\u001b[0m\u001b[0m\n\u001b[0;32m   1131\u001b[0m               \u001b[1;32mraise\u001b[0m\u001b[1;33m\u001b[0m\u001b[1;33m\u001b[0m\u001b[0m\n",
      "\u001b[1;31mTypeError\u001b[0m: in user code:\n\n    File \"C:\\Users\\gaetd\\anaconda3\\lib\\site-packages\\keras\\engine\\training.py\", line 1621, in predict_function  *\n        return step_function(self, iterator)\n    File \"C:\\Users\\gaetd\\anaconda3\\lib\\site-packages\\keras\\engine\\training.py\", line 1611, in step_function  **\n        outputs = model.distribute_strategy.run(run_step, args=(data,))\n    File \"C:\\Users\\gaetd\\anaconda3\\lib\\site-packages\\keras\\engine\\training.py\", line 1604, in run_step  **\n        outputs = model.predict_step(data)\n    File \"c:\\Users\\gaetd\\OneDrive\\Bureau\\github_perso\\autopycoin\\autopycoin\\models\\pool.py\", line 248, in predict_step\n        y = self.postprocessing_y(y)\n    File \"c:\\Users\\gaetd\\OneDrive\\Bureau\\github_perso\\autopycoin\\autopycoin\\models\\nbeats.py\", line 948, in postprocessing_y\n        return self.fn_agg(y)\n\n    TypeError: Failed to convert elements of [UnivariateTensor(values=<tf.Tensor 'pool_nbeats/interpretable_NBEATS/Add_1:0' shape=(None, 10) dtype=float32>, quantiles=False, shape=TensorShape([None, 10]), dtype=tf.float32, multivariates=False), UnivariateTensor(values=<tf.Tensor 'pool_nbeats/interpretable_NBEATS/Add_3:0' shape=(None, 10) dtype=float32>, quantiles=False, shape=TensorShape([None, 10]), dtype=tf.float32, multivariates=False), UnivariateTensor(values=<tf.Tensor 'pool_nbeats/interpretable_NBEATS/Add_5:0' shape=(None, 10) dtype=float32>, quantiles=False, shape=TensorShape([None, 10]), dtype=tf.float32, multivariates=False), UnivariateTensor(values=<tf.Tensor 'pool_nbeats/interpretable_NBEATS/Add_7:0' shape=(None, 10) dtype=float32>, quantiles=False, shape=TensorShape([None, 10]), dtype=tf.float32, multivariates=False), UnivariateTensor(values=<tf.Tensor 'pool_nbeats/interpretable_NBEATS/Add_9:0' shape=(None, 10) dtype=float32>, quantiles=False, shape=TensorShape([None, 10]), dtype=tf.float32, multivariates=False), UnivariateTensor(values=<tf.Tensor 'pool_nbeats/interpretable_NBEATS/Add_11:0' shape=(None, 10) dtype=float32>, quantiles=False, shape=TensorShape([None, 10]), dtype=tf.float32, multivariates=False), UnivariateTensor(values=<tf.Tensor 'pool_nbeats/interpretable_NBEATS/Add_13:0' shape=(None, 10) dtype=float32>, quantiles=False, shape=TensorShape([None, 10]), dtype=tf.float32, multivariates=False), UnivariateTensor(values=<tf.Tensor 'pool_nbeats/interpretable_NBEATS/Add_15:0' shape=(None, 10) dtype=float32>, quantiles=False, shape=TensorShape([None, 10]), dtype=tf.float32, multivariates=False), UnivariateTensor(values=<tf.Tensor 'pool_nbeats/interpretable_NBEATS/Add_17:0' shape=(None, 10) dtype=float32>, quantiles=False, shape=TensorShape([None, 10]), dtype=tf.float32, multivariates=False), UnivariateTensor(values=<tf.Tensor 'pool_nbeats/interpretable_NBEATS/Add_19:0' shape=(None, 10) dtype=float32>, quantiles=False, shape=TensorShape([None, 10]), dtype=tf.float32, multivariates=False)] to Tensor. Consider casting elements to a supported type. See https://www.tensorflow.org/api_docs/python/tf/dtypes for supported TF dtypes.\n"
     ]
    }
   ],
   "source": [
    "len(model.predict(w.test.take(1))[1])"
   ]
  },
  {
   "cell_type": "code",
   "execution_count": null,
   "metadata": {},
   "outputs": [],
   "source": [
    "        # aggregation if possible\n",
    "        if all(inputs_reconstructed[0].shape == tensor.shape for tensor in inputs_reconstructed[1:]):\n",
    "            inputs_reconstructed = self._fn_agg(inputs_reconstructed, axis=-1)\n",
    "\n",
    "        # aggregation if possible\n",
    "        if all(outputs[0].shape == tensor.shape for tensor in outputs[1:]):\n",
    "            outputs = self._fn_agg(outputs, axis=-1)"
   ]
  }
 ],
 "metadata": {
  "interpreter": {
   "hash": "dfe2fa9eb000da2c125cea5b26b88bfadcbe34e7a412c1fdc0bfef8311a98cbf"
  },
  "kernelspec": {
   "display_name": "Python 3 (ipykernel)",
   "language": "python",
   "name": "python3"
  },
  "language_info": {
   "codemirror_mode": {
    "name": "ipython",
    "version": 3
   },
   "file_extension": ".py",
   "mimetype": "text/x-python",
   "name": "python",
   "nbconvert_exporter": "python",
   "pygments_lexer": "ipython3",
   "version": "3.9.7"
  }
 },
 "nbformat": 4,
 "nbformat_minor": 2
}
