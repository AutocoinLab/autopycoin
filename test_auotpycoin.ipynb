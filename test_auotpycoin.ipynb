{
 "cells": [
  {
   "cell_type": "code",
   "execution_count": 1,
   "metadata": {},
   "outputs": [
    {
     "ename": "AttributeError",
     "evalue": "__name__",
     "output_type": "error",
     "traceback": [
      "\u001b[1;31m---------------------------------------------------------------------------\u001b[0m",
      "\u001b[1;31mAttributeError\u001b[0m                            Traceback (most recent call last)",
      "\u001b[1;32m~\\AppData\\Local\\Temp/ipykernel_12508/4288174773.py\u001b[0m in \u001b[0;36m<module>\u001b[1;34m\u001b[0m\n\u001b[0;32m     53\u001b[0m         )]\n\u001b[0;32m     54\u001b[0m \u001b[1;33m\u001b[0m\u001b[0m\n\u001b[1;32m---> 55\u001b[1;33m model = PoolNBEATS(\n\u001b[0m\u001b[0;32m     56\u001b[0m     \u001b[0mn_models\u001b[0m\u001b[1;33m=\u001b[0m\u001b[1;36m10\u001b[0m\u001b[1;33m,\u001b[0m\u001b[1;33m\u001b[0m\u001b[1;33m\u001b[0m\u001b[0m\n\u001b[0;32m     57\u001b[0m     \u001b[0mnbeats_models\u001b[0m\u001b[1;33m=\u001b[0m\u001b[0mmodel\u001b[0m\u001b[1;33m,\u001b[0m\u001b[1;33m\u001b[0m\u001b[1;33m\u001b[0m\u001b[0m\n",
      "\u001b[1;32mc:\\Users\\gaetd\\OneDrive\\Bureau\\github_perso\\autopycoin\\autopycoin\\baseclass.py\u001b[0m in \u001b[0;36mwrapped_attribute\u001b[1;34m(self, *args, **kwargs)\u001b[0m\n\u001b[0;32m    129\u001b[0m             \u001b[0mattribute_name\u001b[0m\u001b[1;33m,\u001b[0m \u001b[0mattribute_value\u001b[0m\u001b[1;33m\u001b[0m\u001b[1;33m\u001b[0m\u001b[0m\n\u001b[0;32m    130\u001b[0m         )\n\u001b[1;32m--> 131\u001b[1;33m         args, kwargs = convert_value(\n\u001b[0m\u001b[0;32m    132\u001b[0m             \u001b[0mlist_fields\u001b[0m\u001b[1;33m[\u001b[0m\u001b[1;34mf\"{cls}_{attribute_name}\"\u001b[0m\u001b[1;33m]\u001b[0m\u001b[1;33m,\u001b[0m \u001b[0mattribute_name\u001b[0m\u001b[1;33m,\u001b[0m \u001b[1;33m*\u001b[0m\u001b[0margs\u001b[0m\u001b[1;33m,\u001b[0m \u001b[1;33m**\u001b[0m\u001b[0mkwargs\u001b[0m\u001b[1;33m\u001b[0m\u001b[1;33m\u001b[0m\u001b[0m\n\u001b[0;32m    133\u001b[0m         )\n",
      "\u001b[1;32mc:\\Users\\gaetd\\OneDrive\\Bureau\\github_perso\\autopycoin\\autopycoin\\baseclass.py\u001b[0m in \u001b[0;36mconvert_value\u001b[1;34m(list_fields, attribute_name, *args, **kwargs)\u001b[0m\n\u001b[0;32m    155\u001b[0m             )\n\u001b[0;32m    156\u001b[0m         \u001b[1;32melif\u001b[0m \u001b[0mfield\u001b[0m\u001b[1;33m.\u001b[0m\u001b[0mname\u001b[0m \u001b[1;32min\u001b[0m \u001b[0mkwargs\u001b[0m\u001b[1;33m:\u001b[0m\u001b[1;33m\u001b[0m\u001b[1;33m\u001b[0m\u001b[0m\n\u001b[1;32m--> 157\u001b[1;33m             kwargs[field.name] = _convert_value(\n\u001b[0m\u001b[0;32m    158\u001b[0m                 \u001b[0mkwargs\u001b[0m\u001b[1;33m[\u001b[0m\u001b[0mfield\u001b[0m\u001b[1;33m.\u001b[0m\u001b[0mname\u001b[0m\u001b[1;33m]\u001b[0m\u001b[1;33m,\u001b[0m\u001b[1;33m\u001b[0m\u001b[1;33m\u001b[0m\u001b[0m\n\u001b[0;32m    159\u001b[0m                 \u001b[0mfield\u001b[0m\u001b[1;33m.\u001b[0m\u001b[0mvalue_type\u001b[0m\u001b[1;33m,\u001b[0m\u001b[1;33m\u001b[0m\u001b[1;33m\u001b[0m\u001b[0m\n",
      "\u001b[1;32mc:\\Users\\gaetd\\OneDrive\\Bureau\\github_perso\\autopycoin\\autopycoin\\baseclass_field.py\u001b[0m in \u001b[0;36m_convert_value\u001b[1;34m(value, expected_type, path, context, convert)\u001b[0m\n\u001b[0;32m    158\u001b[0m         \u001b[1;32mreturn\u001b[0m \u001b[0m_check_mapping\u001b[0m\u001b[1;33m(\u001b[0m\u001b[0mvalue\u001b[0m\u001b[1;33m,\u001b[0m \u001b[0mexpected_type\u001b[0m\u001b[1;33m,\u001b[0m \u001b[0mpath\u001b[0m\u001b[1;33m,\u001b[0m \u001b[0mcontext\u001b[0m\u001b[1;33m)\u001b[0m\u001b[1;33m\u001b[0m\u001b[1;33m\u001b[0m\u001b[0m\n\u001b[0;32m    159\u001b[0m     \u001b[1;32melif\u001b[0m \u001b[0mis_generic_union\u001b[0m\u001b[1;33m(\u001b[0m\u001b[0mexpected_type\u001b[0m\u001b[1;33m)\u001b[0m\u001b[1;33m:\u001b[0m\u001b[1;33m\u001b[0m\u001b[1;33m\u001b[0m\u001b[0m\n\u001b[1;32m--> 160\u001b[1;33m         \u001b[1;32mreturn\u001b[0m \u001b[0m_check_union\u001b[0m\u001b[1;33m(\u001b[0m\u001b[0mvalue\u001b[0m\u001b[1;33m,\u001b[0m \u001b[0mexpected_type\u001b[0m\u001b[1;33m,\u001b[0m \u001b[0mpath\u001b[0m\u001b[1;33m,\u001b[0m \u001b[0mcontext\u001b[0m\u001b[1;33m)\u001b[0m\u001b[1;33m\u001b[0m\u001b[1;33m\u001b[0m\u001b[0m\n\u001b[0m\u001b[0;32m    161\u001b[0m     \u001b[1;32melif\u001b[0m \u001b[0mis_generic_list\u001b[0m\u001b[1;33m(\u001b[0m\u001b[0mexpected_type\u001b[0m\u001b[1;33m)\u001b[0m\u001b[1;33m:\u001b[0m\u001b[1;33m\u001b[0m\u001b[1;33m\u001b[0m\u001b[0m\n\u001b[0;32m    162\u001b[0m         \u001b[1;32mreturn\u001b[0m \u001b[0m_check_list\u001b[0m\u001b[1;33m(\u001b[0m\u001b[0mvalue\u001b[0m\u001b[1;33m,\u001b[0m \u001b[0mexpected_type\u001b[0m\u001b[1;33m,\u001b[0m \u001b[0mpath\u001b[0m\u001b[1;33m,\u001b[0m \u001b[0mcontext\u001b[0m\u001b[1;33m)\u001b[0m\u001b[1;33m\u001b[0m\u001b[1;33m\u001b[0m\u001b[0m\n",
      "\u001b[1;32mc:\\Users\\gaetd\\OneDrive\\Bureau\\github_perso\\autopycoin\\autopycoin\\baseclass_field.py\u001b[0m in \u001b[0;36m_check_union\u001b[1;34m(value, expected_type, path, context)\u001b[0m\n\u001b[0;32m    224\u001b[0m     \u001b[1;32mfor\u001b[0m \u001b[0mtype_option\u001b[0m \u001b[1;32min\u001b[0m \u001b[0mget_generic_type_args\u001b[0m\u001b[1;33m(\u001b[0m\u001b[0mexpected_type\u001b[0m\u001b[1;33m)\u001b[0m\u001b[1;33m:\u001b[0m\u001b[1;33m\u001b[0m\u001b[1;33m\u001b[0m\u001b[0m\n\u001b[0;32m    225\u001b[0m         \u001b[1;32mtry\u001b[0m\u001b[1;33m:\u001b[0m\u001b[1;33m\u001b[0m\u001b[1;33m\u001b[0m\u001b[0m\n\u001b[1;32m--> 226\u001b[1;33m             \u001b[1;32mreturn\u001b[0m \u001b[0m_convert_value\u001b[0m\u001b[1;33m(\u001b[0m\u001b[0mvalue\u001b[0m\u001b[1;33m,\u001b[0m \u001b[0mtype_option\u001b[0m\u001b[1;33m,\u001b[0m \u001b[0mpath\u001b[0m\u001b[1;33m,\u001b[0m \u001b[0mcontext\u001b[0m\u001b[1;33m,\u001b[0m \u001b[0mconvert\u001b[0m\u001b[1;33m=\u001b[0m\u001b[1;32mFalse\u001b[0m\u001b[1;33m)\u001b[0m\u001b[1;33m\u001b[0m\u001b[1;33m\u001b[0m\u001b[0m\n\u001b[0m\u001b[0;32m    227\u001b[0m         \u001b[1;32mexcept\u001b[0m \u001b[0mTypeError\u001b[0m\u001b[1;33m:\u001b[0m\u001b[1;33m\u001b[0m\u001b[1;33m\u001b[0m\u001b[0m\n\u001b[0;32m    228\u001b[0m             \u001b[1;32mpass\u001b[0m\u001b[1;33m\u001b[0m\u001b[1;33m\u001b[0m\u001b[0m\n",
      "\u001b[1;32mc:\\Users\\gaetd\\OneDrive\\Bureau\\github_perso\\autopycoin\\autopycoin\\baseclass_field.py\u001b[0m in \u001b[0;36m_convert_value\u001b[1;34m(value, expected_type, path, context, convert)\u001b[0m\n\u001b[0;32m    170\u001b[0m \u001b[1;33m\u001b[0m\u001b[0m\n\u001b[0;32m    171\u001b[0m     raise TypeError(\n\u001b[1;32m--> 172\u001b[1;33m         \u001b[1;34mf'{\"\".join(path)}: expected {expected_type.__name__}, got {value!r}'\u001b[0m\u001b[1;33m\u001b[0m\u001b[1;33m\u001b[0m\u001b[0m\n\u001b[0m\u001b[0;32m    173\u001b[0m     )\n\u001b[0;32m    174\u001b[0m \u001b[1;33m\u001b[0m\u001b[0m\n",
      "\u001b[1;32m~\\anaconda3\\lib\\typing.py\u001b[0m in \u001b[0;36m__getattr__\u001b[1;34m(self, attr)\u001b[0m\n\u001b[0;32m    704\u001b[0m         \u001b[1;32mif\u001b[0m \u001b[1;34m'__origin__'\u001b[0m \u001b[1;32min\u001b[0m \u001b[0mself\u001b[0m\u001b[1;33m.\u001b[0m\u001b[0m__dict__\u001b[0m \u001b[1;32mand\u001b[0m \u001b[1;32mnot\u001b[0m \u001b[0m_is_dunder\u001b[0m\u001b[1;33m(\u001b[0m\u001b[0mattr\u001b[0m\u001b[1;33m)\u001b[0m\u001b[1;33m:\u001b[0m\u001b[1;33m\u001b[0m\u001b[1;33m\u001b[0m\u001b[0m\n\u001b[0;32m    705\u001b[0m             \u001b[1;32mreturn\u001b[0m \u001b[0mgetattr\u001b[0m\u001b[1;33m(\u001b[0m\u001b[0mself\u001b[0m\u001b[1;33m.\u001b[0m\u001b[0m__origin__\u001b[0m\u001b[1;33m,\u001b[0m \u001b[0mattr\u001b[0m\u001b[1;33m)\u001b[0m\u001b[1;33m\u001b[0m\u001b[1;33m\u001b[0m\u001b[0m\n\u001b[1;32m--> 706\u001b[1;33m         \u001b[1;32mraise\u001b[0m \u001b[0mAttributeError\u001b[0m\u001b[1;33m(\u001b[0m\u001b[0mattr\u001b[0m\u001b[1;33m)\u001b[0m\u001b[1;33m\u001b[0m\u001b[1;33m\u001b[0m\u001b[0m\n\u001b[0m\u001b[0;32m    707\u001b[0m \u001b[1;33m\u001b[0m\u001b[0m\n\u001b[0;32m    708\u001b[0m     \u001b[1;32mdef\u001b[0m \u001b[0m__setattr__\u001b[0m\u001b[1;33m(\u001b[0m\u001b[0mself\u001b[0m\u001b[1;33m,\u001b[0m \u001b[0mattr\u001b[0m\u001b[1;33m,\u001b[0m \u001b[0mval\u001b[0m\u001b[1;33m)\u001b[0m\u001b[1;33m:\u001b[0m\u001b[1;33m\u001b[0m\u001b[1;33m\u001b[0m\u001b[0m\n",
      "\u001b[1;31mAttributeError\u001b[0m: __name__"
     ]
    }
   ],
   "source": [
    "\n",
    "import numpy as np\n",
    "from absl.testing import parameterized\n",
    "\n",
    "from tensorflow.python.keras import keras_parameterized\n",
    "from tensorflow.keras.backend import floatx\n",
    "import tensorflow as tf\n",
    "\n",
    "from autopycoin.dataset.generator import WindowGenerator\n",
    "\n",
    "from autopycoin.models import PoolNBEATS\n",
    "\n",
    "from autopycoin.utils import layer_test, check_attributes\n",
    "from autopycoin.losses import QuantileLossError\n",
    "from autopycoin.layers.nbeats_layers import GenericBlock, TrendBlock, SeasonalityBlock\n",
    "from autopycoin.models import (\n",
    "    create_interpretable_nbeats,\n",
    "    create_generic_nbeats,\n",
    "    NBEATS,\n",
    "    Stack,\n",
    ")\n",
    "from autopycoin.data import random_ts\n",
    "\n",
    "\n",
    "data = random_ts(n_steps=30, n_variables=2)\n",
    "\n",
    "w = WindowGenerator(\n",
    "        input_width=6,\n",
    "        label_width=3,\n",
    "        shift=3,\n",
    "        valid_size=10,\n",
    "        test_size=0,\n",
    "        flat=False)\n",
    "w.from_array(data, input_columns=[0, 1], label_columns=[0, 1])\n",
    "\n",
    "model = [create_generic_nbeats(\n",
    "            label_width=3,\n",
    "            g_forecast_neurons=2,\n",
    "            g_backcast_neurons=2,\n",
    "            n_neurons=2,\n",
    "            n_blocks=2,\n",
    "            n_stacks=2,\n",
    "            drop_rate=0,\n",
    "            share=True,\n",
    "        ),create_generic_nbeats(\n",
    "            label_width=3,\n",
    "            g_forecast_neurons=2,\n",
    "            g_backcast_neurons=2,\n",
    "            n_neurons=2,\n",
    "            n_blocks=2,\n",
    "            n_stacks=2,\n",
    "            drop_rate=0,\n",
    "            share=True,\n",
    "        )]\n",
    "\n",
    "model = PoolNBEATS(\n",
    "    n_models=10,\n",
    "    nbeats_models=model,\n",
    "    losses=[\"mse\", \"mae\", \"mape\"],\n",
    "    fn_agg=tf.reduce_mean,\n",
    ")\n",
    "\n",
    "model.compile(\n",
    "    tf.keras.optimizers.Adam(\n",
    "        learning_rate=0.02,\n",
    "        beta_1=0.9,\n",
    "        beta_2=0.999,\n",
    "        epsilon=1e-07,\n",
    "        amsgrad=True,\n",
    "        name=\"Adam\",\n",
    "    ),\n",
    "    loss=model.get_pool_losses(),\n",
    "    metrics=\"mae\",\n",
    ")\n",
    "\n",
    "# Issue 13\n",
    "model.fit(w.train, epochs=10, validation_data=w.valid)"
   ]
  },
  {
   "cell_type": "code",
   "execution_count": 8,
   "metadata": {},
   "outputs": [
    {
     "data": {
      "text/plain": [
       "autopycoin.models.nbeats.NBEATS"
      ]
     },
     "execution_count": 8,
     "metadata": {},
     "output_type": "execute_result"
    }
   ],
   "source": [
    "type(create_generic_nbeats(\n",
    "            label_width=3,\n",
    "            g_forecast_neurons=2,\n",
    "            g_backcast_neurons=2,\n",
    "            n_neurons=2,\n",
    "            n_blocks=2,\n",
    "            n_stacks=2,\n",
    "            drop_rate=0,\n",
    "            share=True,\n",
    "        ))"
   ]
  },
  {
   "cell_type": "code",
   "execution_count": null,
   "metadata": {},
   "outputs": [],
   "source": []
  }
 ],
 "metadata": {
  "interpreter": {
   "hash": "dfe2fa9eb000da2c125cea5b26b88bfadcbe34e7a412c1fdc0bfef8311a98cbf"
  },
  "kernelspec": {
   "display_name": "Python 3.9.7 64-bit ('base': conda)",
   "language": "python",
   "name": "python3"
  },
  "language_info": {
   "codemirror_mode": {
    "name": "ipython",
    "version": 3
   },
   "file_extension": ".py",
   "mimetype": "text/x-python",
   "name": "python",
   "nbconvert_exporter": "python",
   "pygments_lexer": "ipython3",
   "version": "3.9.7"
  },
  "orig_nbformat": 4
 },
 "nbformat": 4,
 "nbformat_minor": 2
}
